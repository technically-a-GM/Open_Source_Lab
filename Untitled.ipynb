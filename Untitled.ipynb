{
 "cells": [
  {
   "cell_type": "code",
   "execution_count": 21,
   "id": "6a78857e-8f34-4db7-8016-6ce608c8a7ec",
   "metadata": {},
   "outputs": [
    {
     "name": "stdout",
     "output_type": "stream",
     "text": [
      "hello there\n"
     ]
    }
   ],
   "source": [
    "print(\"hello there\");\n"
   ]
  },
  {
   "cell_type": "code",
   "execution_count": 22,
   "id": "32b97651-0fe1-4903-8fc8-2e5c215d2a2f",
   "metadata": {},
   "outputs": [
    {
     "name": "stdout",
     "output_type": "stream",
     "text": [
      "[4, 5, 2, 3, 4]\n"
     ]
    }
   ],
   "source": [
    "x = [1,4,5,2,3,4,];\n",
    "print(x[1:]);\n"
   ]
  },
  {
   "cell_type": "code",
   "execution_count": 1,
   "id": "758d9d7c-dc85-4c15-9fbd-08c623a1ce92",
   "metadata": {},
   "outputs": [
    {
     "name": "stdout",
     "output_type": "stream",
     "text": [
      "this is my project\n"
     ]
    }
   ],
   "source": [
    "print(\"this is my project\");"
   ]
  },
  {
   "cell_type": "code",
   "execution_count": null,
   "id": "7aa1d1bd-e6c7-4eef-b3ec-7c800395ecf3",
   "metadata": {},
   "outputs": [],
   "source": []
  }
 ],
 "metadata": {
  "kernelspec": {
   "display_name": "Python 3 (ipykernel)",
   "language": "python",
   "name": "python3"
  },
  "language_info": {
   "codemirror_mode": {
    "name": "ipython",
    "version": 3
   },
   "file_extension": ".py",
   "mimetype": "text/x-python",
   "name": "python",
   "nbconvert_exporter": "python",
   "pygments_lexer": "ipython3",
   "version": "3.11.7"
  }
 },
 "nbformat": 4,
 "nbformat_minor": 5
}
